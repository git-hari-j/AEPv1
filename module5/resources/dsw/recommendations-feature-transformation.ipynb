{
 "cells": [
  {
   "cell_type": "markdown",
   "metadata": {},
   "source": [
    "## Definitions"
   ]
  },
  {
   "cell_type": "code",
   "execution_count": null,
   "metadata": {},
   "outputs": [],
   "source": [
    "import pandas as pd\n",
    "from platform_sdk.dataset_reader import DatasetReader\n",
    "\n",
    "inputDataset=\"5e5f62408ac43618a8b959aa\" # Adobe Analytics: Demo Environment postValues\n",
    "outputDataset=\"5e5f62599b451c18a97904df\" # Recommendations Input Datasetb\n",
    "\n",
    "item_id = \"_tcsamericasptrsd.productData.productName\"\n",
    "interactionType = \"_tcsamericasptrsd.productData.productInteraction\"\n",
    "user_id = \"_tcsamericasptrsd.identification.ecid\"\n",
    "brand_name = \"_tcsamericasptrsd.brand.brandName\"\n",
    "timestamp = \"timestamp\"\n",
    "#tenant_id = \"_tcsamericasptrsd\"\n",
    "\n",
    "client_context = PLATFORM_SDK_CLIENT_CONTEXT"
   ]
  },
  {
   "cell_type": "markdown",
   "metadata": {},
   "source": [
    "## Load the purchases data"
   ]
  },
  {
   "cell_type": "code",
   "execution_count": null,
   "metadata": {},
   "outputs": [],
   "source": [
    "dataset_reader = DatasetReader(PLATFORM_SDK_CLIENT_CONTEXT, dataset_id=inputDataset)\n",
    "df = dataset_reader.limit(50000).read()"
   ]
  },
  {
   "cell_type": "code",
   "execution_count": null,
   "metadata": {},
   "outputs": [],
   "source": [
    "df.head()"
   ]
  },
  {
   "cell_type": "markdown",
   "metadata": {},
   "source": [
    "## Filtering"
   ]
  },
  {
   "cell_type": "code",
   "execution_count": null,
   "metadata": {},
   "outputs": [],
   "source": [
    "# drop nulls\n",
    "df = df.dropna(subset=[user_id, item_id, interactionType, brand_name])\n",
    "\n",
    "# only focus on one brand\n",
    "df = df[df[brand_name] == \"Luma Retail\"]\n"
   ]
  },
  {
   "cell_type": "markdown",
   "metadata": {},
   "source": [
    "## Split items into individual records"
   ]
  },
  {
   "cell_type": "code",
   "execution_count": null,
   "metadata": {},
   "outputs": [],
   "source": [
    "# vectorized (no loops) solution for splitting in pandas\n",
    "# source: https://stackoverflow.com/a/48120674\n",
    "def split_df(dataframe, col_name, sep):\n",
    "    orig_col_index = dataframe.columns.tolist().index(col_name)\n",
    "    orig_index_name = dataframe.index.name\n",
    "    orig_columns = dataframe.columns\n",
    "    dataframe = dataframe.reset_index()\n",
    "    index_col_name = (set(dataframe.columns) - set(orig_columns)).pop()\n",
    "    df_split = pd.DataFrame(\n",
    "        pd.DataFrame(dataframe[col_name].str.split(sep).tolist())\n",
    "        .stack().reset_index(level=1, drop=1), columns=[col_name])\n",
    "    df = dataframe.drop(col_name, axis=1)\n",
    "    df = pd.merge(df, df_split, left_index=True, right_index=True, how='inner')\n",
    "    df = df.set_index(index_col_name)\n",
    "    df.index.name = orig_index_name\n",
    "\n",
    "    return df\n",
    "\n",
    "df2 = split_df(df, item_id, \"\\|\\|\")"
   ]
  },
  {
   "cell_type": "markdown",
   "metadata": {},
   "source": [
    "# Data Prep for saving back to platform"
   ]
  },
  {
   "cell_type": "code",
   "execution_count": null,
   "metadata": {},
   "outputs": [],
   "source": [
    "filtered_column_list = [item_id, user_id, interactionType, timestamp]\n",
    "\n",
    "df2 = df2[filtered_column_list]\n",
    "\n",
    "\n",
    "df2.rename(columns={\n",
    "    item_id: \"_tcsamericasptrsd.itemId\",\n",
    "    user_id: \"_tcsamericasptrsd.userId\",\n",
    "    interactionType: \"_tcsamericasptrsd.interactionType\",\n",
    "    brand_name: \"_tcsamericasptrsd.brandName\"\n",
    "}, inplace=True)\n",
    "\n",
    "df2.head()"
   ]
  },
  {
   "cell_type": "markdown",
   "metadata": {},
   "source": [
    "# Write new dataframe to platform"
   ]
  },
  {
   "cell_type": "code",
   "execution_count": null,
   "metadata": {},
   "outputs": [],
   "source": [
    "from platform_sdk.dataset_writer import DatasetWriter\n",
    "from platform_sdk.models import Dataset\n",
    "\n",
    "dataset = Dataset(PLATFORM_SDK_CLIENT_CONTEXT).get_by_id(outputDataset)\n",
    "dataset_writer = DatasetWriter(PLATFORM_SDK_CLIENT_CONTEXT, dataset)\n",
    "dataset_writer.write(df2, file_format='json')"
   ]
  },
  {
   "cell_type": "code",
   "execution_count": null,
   "metadata": {},
   "outputs": [],
   "source": []
  }
 ],
 "metadata": {
  "kernelspec": {
   "display_name": "Python 3",
   "language": "python",
   "name": "python3"
  },
  "language_info": {
   "codemirror_mode": {
    "name": "ipython",
    "version": 3
   },
   "file_extension": ".py",
   "mimetype": "text/x-python",
   "name": "python",
   "nbconvert_exporter": "python",
   "pygments_lexer": "ipython3",
   "version": "3.6.7"
  }
 },
 "nbformat": 4,
 "nbformat_minor": 4
}
